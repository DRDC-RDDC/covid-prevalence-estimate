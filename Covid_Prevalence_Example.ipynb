{
  "nbformat": 4,
  "nbformat_minor": 0,
  "metadata": {
    "colab": {
      "name": "Covid-Prevalene-Example.ipynb",
      "provenance": [],
      "collapsed_sections": []
    },
    "kernelspec": {
      "name": "python3",
      "display_name": "Python 3"
    }
  },
  "cells": [
    {
      "cell_type": "code",
      "metadata": {
        "id": "Me2HFD-NocYL",
        "colab_type": "code",
        "colab": {}
      },
      "source": [
        "%%capture\n",
        "# Here, we add an environment variable to help theano locate the BLAS libraries.\n",
        "# found in ./usr/lib/x86_64-linux-gnu/libblas.so on colab\n",
        "# More info at http://deeplearning.net/software/theano/troubleshooting.html\n",
        "import os\n",
        "os.environ[\"THEANO_FLAGS\"] = 'blas.ldflags=\"-L/usr/lib/x86_64-linux-gnu/openblas -lblas\"' # Google Colab default\n",
        "\n",
        "# Model\n",
        "! pip install git+https://github.com/Priesemann-Group/covid19_inference.git\n",
        "! pip install git+https://gitlab.com/stevenhorn/covid-prevalence-estimate.git\n",
        "\n",
        "# Data\n",
        "! git clone https://github.com/ishaberry/Covid19Canada.git --depth 1 --branch master --single-branch /content/Covid19Canada\n",
        "! git clone https://github.com/CSSEGISandData/COVID-19.git --depth 1 --branch master --single-branch /content/COVID-19\n",
        "\n",
        "# Configuration\n",
        "! wget https://gitlab.com/stevenhorn/covid-prevalence-estimate/raw/master/config/config.json"
      ],
      "execution_count": null,
      "outputs": []
    },
    {
      "cell_type": "code",
      "metadata": {
        "id": "_vny8hIidnN6",
        "colab_type": "code",
        "colab": {}
      },
      "source": [
        "import datetime, json, urllib.request\n",
        "import numpy as np\n",
        "import pymc3 as pm\n",
        "import pymc3.stats as pms\n",
        "import matplotlib.pyplot as plt\n",
        "from covid_prevalence.data import get_data, savecsv\n",
        "from covid_prevalence.models import PrevModel\n",
        "from covid_prevalence.utility import get_folders\n",
        "from covid_prevalence.plots import plot_fit, plot_prevalence, plot_posteriors, plot_introduction\n",
        "\n",
        "plt.style.use('seaborn-darkgrid')"
      ],
      "execution_count": null,
      "outputs": []
    },
    {
      "cell_type": "code",
      "metadata": {
        "id": "xtlUVFbUi5tW",
        "colab_type": "code",
        "colab": {}
      },
      "source": [
        "# Load configuration and population\n",
        "with open('/content/config.json','r') as f:\n",
        "  config = json.load(f)\n",
        "  \n",
        "model = config['settings']['model']\n",
        "settings = config['settings']\n",
        "settings['model'] = model\n",
        "pops = config['populations']\n",
        "# filter for a single population.\n",
        "pops = [p for p in config['populations'] if p['source_region'] == 'Logan' and p['source_state'] == 'West Virginia']\n",
        "pop = pops[0]\n",
        "\n",
        "# render\n",
        "new_cases, cum_deaths, bd = get_data(pops[0])  \n",
        "new_cases[new_cases < 0] = 0\n",
        "plt.plot(new_cases)\n",
        "plt.xticks(rotation=45)\n",
        "plt.xlabel(\"Day\")\n",
        "plt.ylabel(\"New cases\");\n",
        "plt.title(f\"{pops[0]['name']} Health Region\")"
      ],
      "execution_count": null,
      "outputs": []
    },
    {
      "cell_type": "code",
      "metadata": {
        "id": "JgAlQXZuig0m",
        "colab_type": "code",
        "colab": {
          "base_uri": "https://localhost:8080/",
          "height": 1000
        },
        "outputId": "ef10b8e4-13e8-4cd1-9b39-8b15bfbcbc13"
      },
      "source": [
        "# Run the model on the latest data\n",
        "new_cases, cum_deaths, bd = get_data(pop)  # plt.plot(new_cases)\n",
        "\n",
        "# fix up negative case values\n",
        "new_cases[new_cases < 0] = 0\n",
        "\n",
        "#pop['normal_likelihood'] = True\n",
        "\n",
        "params_model = dict(\n",
        "      new_cases_obs=new_cases,\n",
        "      data_begin=bd,\n",
        "      fcast_len=14,             # forecast model\n",
        "      diff_data_sim=5,     # number of days for burn-in\n",
        "      N_population=pop['N'],\n",
        "      settings=settings,\n",
        "      pop = pop,\n",
        "    )\n",
        "\n",
        "numsims = 20#settings['numsims']\n",
        "numtune = 20#settings['numtune']\n",
        "\n",
        "# Create the model\n",
        "with PrevModel(**params_model) as this_model:\n",
        "\n",
        "  # initialize and sample the model\n",
        "  trace = pm.sample(model=this_model, \n",
        "                    tune=numtune, \n",
        "                    draws=numsims, \n",
        "                    n_init=50000, \n",
        "                    init=\"advi+adapt_diag\", \n",
        "                    cores=2, \n",
        "                    target_accept=0.95)\n"
      ],
      "execution_count": null,
      "outputs": []
    },
    {
      "cell_type": "code",
      "metadata": {
        "id": "sYG1wjGsHK_y",
        "colab_type": "code",
        "colab": {
          "base_uri": "https://localhost:8080/",
          "height": 1000
        },
        "outputId": "0bb3b238-92ae-4be7-bbe7-e0156ef6c906"
      },
      "source": [
        "with this_model:\n",
        "  savefolder, folder = get_folders(pop, rootpath='/content')\n",
        "\n",
        "  plot_fit(this_model, trace, new_cases, pop, settings, closeplot=False, rootpath='/content')\n",
        "  plot_prevalence(this_model, trace, pop, settings, closeplot=False, rootpath='/content')\n",
        "\n",
        "  divs = trace.get_sampler_stats('diverging')\n",
        "  pop['divs'] = np.sum(divs)\n",
        "  llostat = pms.loo(trace,pointwise=True, scale=\"log\")\n",
        "  llostat_str = str(llostat)\n",
        "  summary = pm.summary(trace, var_names=[\"pa\", \"pu\",\"mu\",\"mus\", \"gamma\", \"Is_begin\",\"Ia_begin\",\"E_begin\"])\n",
        "  summary_str = str(summary)\n",
        "  savepath = savefolder + '/'+folder+'_stats.txt'\n",
        "  with open(savepath, 'w') as f:\n",
        "    f.write('%d Divergences \\n' % np.sum(divs))\n",
        "    f.write(llostat_str)\n",
        "    f.write('\\n')\n",
        "    f.write(summary_str)\n",
        "\n",
        "  pop['compute_time'] = datetime.datetime.utcnow() - datetime.datetime.utcnow()\n",
        "  pop['draws'] = 20\n",
        "  pop['tunes'] = 20\n",
        "\n",
        "  plot_fit(this_model, trace, new_cases, pop, settings, closeplot=True, rootpath='/content/drive/My Drive/covid-prev')\n",
        "  plot_prevalence(this_model, trace, pop, settings, closeplot=True, rootpath='/content/drive/My Drive/covid-prev')\n",
        "  plot_introduction(this_model, trace, pop, settings, closeplot=False)\n",
        "  _, _ = savecsv(this_model, trace, pop, rootpath='/content/drive/My Drive/covid-prev')"
      ],
      "execution_count": null,
      "outputs": []
    },
    {
      "cell_type": "code",
      "metadata": {
        "id": "SrVXYpnqIC4u",
        "colab_type": "code",
        "colab": {
          "base_uri": "https://localhost:8080/",
          "height": 204
        },
        "outputId": "c1f12ac8-4f38-46b5-8e0c-61cf0ae81617"
      },
      "source": [
        "with this_model:\n",
        "  summary = pm.summary(trace, var_names=[\"pa\", \"pu\",\"mu\",\"mus\", \"gamma\", \"Is_begin\",\"Ia_begin\",\"E_begin\"])\n",
        "  print(summary)"
      ],
      "execution_count": null,
      "outputs": []
    }
  ]
}